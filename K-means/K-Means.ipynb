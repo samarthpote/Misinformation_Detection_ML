{
 "cells": [
  {
   "cell_type": "code",
   "execution_count": 4,
   "id": "ccc4c656",
   "metadata": {},
   "outputs": [],
   "source": [
    "from sklearn.cluster import KMeans\n",
    "from sklearn.metrics import silhouette_score\n",
    "import numpy as np\n",
    "import pickle\n",
    "from sklearn.metrics import accuracy_score, classification_report\n",
    "from collections import Counter"
   ]
  },
  {
   "cell_type": "code",
   "execution_count": 5,
   "id": "a2913547",
   "metadata": {},
   "outputs": [],
   "source": [
    "# Read the TF-IDF matrices\n",
    "with open('train_tfidf.pkl', 'rb') as f:\n",
    "    X_train_tfidf = pickle.load(f)\n",
    "\n",
    "with open('validation_tfidf.pkl', 'rb') as f:\n",
    "    X_validation_tfidf = pickle.load(f)\n",
    "    \n",
    "# Read the TfidfVectorizer instance\n",
    "with open('tfidf_vectorizer.pkl', 'rb') as f:\n",
    "    tfidf_vectorizer = pickle.load(f)\n",
    "\n",
    "# Read the labels\n",
    "with open('y_train.pkl', 'rb') as f:\n",
    "    y_train = pickle.load(f)\n",
    "\n",
    "with open('y_validation.pkl', 'rb') as f:\n",
    "    y_validation = pickle.load(f)\n",
    "\n",
    "with open('y_test.pkl', 'rb') as f:\n",
    "    y_test = pickle.load(f)\n"
   ]
  },
  {
   "cell_type": "code",
   "execution_count": 8,
   "id": "401d54c6",
   "metadata": {},
   "outputs": [
    {
     "name": "stdout",
     "output_type": "stream",
     "text": [
      "Validation Accuracy: 0.7594339622641509\n",
      "Validation Classification Report:\n",
      "              precision    recall  f1-score   support\n",
      "\n",
      "           0       0.76      0.71      0.73       493\n",
      "           1       0.76      0.80      0.78       567\n",
      "\n",
      "    accuracy                           0.76      1060\n",
      "   macro avg       0.76      0.76      0.76      1060\n",
      "weighted avg       0.76      0.76      0.76      1060\n",
      "\n"
     ]
    }
   ],
   "source": [
    "\n",
    "\n",
    "# Step 1: Feature Extraction with K-means\n",
    "kmeans = KMeans(\n",
    "    n_clusters=5,  # Set the number of clusters\n",
    "    init='k-means++',  # Use smart initialization\n",
    "    n_init=5,  # Run the KMeans algorithm 10 times with different centroid seeds\n",
    "    max_iter=300,  # Maximum number of iterations for each initialization\n",
    "    tol=1e-4,  # Tolerance to declare convergence\n",
    "    random_state = 42\n",
    ")\n",
    "cluster_assignments = kmeans.fit_predict(X_train_tfidf)  # Assuming X_train_tfidf is your TF-IDF matrix\n",
    "\n",
    "# Step 2: Map Clusters to Labels \n",
    "cluster_labels = {}\n",
    "for cluster_id in range(kmeans.n_clusters):\n",
    "    cluster_data_indices = (cluster_assignments == cluster_id)\n",
    "    cluster_labels[cluster_id] = Counter(y_train[cluster_data_indices]).most_common(1)[0][0]\n",
    "\n",
    "# Step 3: Evaluate Performance\n",
    "validation_cluster_assignments = kmeans.predict(X_validation_tfidf)  # Assuming X_validation_tfidf is your validation TF-IDF matrix\n",
    "validation_predictions = [cluster_labels[cluster_id] for cluster_id in validation_cluster_assignments]\n",
    "\n",
    "# Calculate accuracy on the validation set\n",
    "accuracy_validation = accuracy_score(y_validation, validation_predictions)\n",
    "print(\"Validation Accuracy:\", accuracy_validation)\n",
    "\n",
    "# Generate classification report on the validation set\n",
    "report_validation = classification_report(y_validation, validation_predictions)\n",
    "print(\"Validation Classification Report:\")\n",
    "print(report_validation)"
   ]
  },
  {
   "cell_type": "code",
   "execution_count": 10,
   "id": "31e8be3e",
   "metadata": {},
   "outputs": [],
   "source": [
    "# Save the K-means clustering model\n",
    "with open('kmeans_model.pkl', 'wb') as f:\n",
    "    pickle.dump(kmeans, f)\n",
    "\n",
    "# Save the cluster-label mapping dictionary\n",
    "with open('cluster_labels.pkl', 'wb') as f:\n",
    "    pickle.dump(cluster_labels, f)"
   ]
  }
 ],
 "metadata": {
  "kernelspec": {
   "display_name": "Python 3 (ipykernel)",
   "language": "python",
   "name": "python3"
  },
  "language_info": {
   "codemirror_mode": {
    "name": "ipython",
    "version": 3
   },
   "file_extension": ".py",
   "mimetype": "text/x-python",
   "name": "python",
   "nbconvert_exporter": "python",
   "pygments_lexer": "ipython3",
   "version": "3.10.12"
  }
 },
 "nbformat": 4,
 "nbformat_minor": 5
}
