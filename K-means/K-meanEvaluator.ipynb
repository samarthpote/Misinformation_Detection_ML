{
 "cells": [
  {
   "cell_type": "code",
   "execution_count": 3,
   "id": "7b1762ee",
   "metadata": {},
   "outputs": [
    {
     "name": "stdout",
     "output_type": "stream",
     "text": [
      "Test Accuracy: 0.7433962264150943\n",
      "Test Classification Report:\n",
      "              precision    recall  f1-score   support\n",
      "\n",
      "           0       0.75      0.71      0.73       509\n",
      "           1       0.74      0.78      0.76       551\n",
      "\n",
      "    accuracy                           0.74      1060\n",
      "   macro avg       0.74      0.74      0.74      1060\n",
      "weighted avg       0.74      0.74      0.74      1060\n",
      "\n"
     ]
    }
   ],
   "source": [
    "import pickle\n",
    "from sklearn.metrics import accuracy_score, classification_report\n",
    "\n",
    "# Load the K-means clustering model\n",
    "with open('kmeans_model.pkl', 'rb') as f:\n",
    "    kmeans_model = pickle.load(f)\n",
    "\n",
    "# Load the cluster-label mapping dictionary\n",
    "with open('cluster_labels.pkl', 'rb') as f:\n",
    "    cluster_labels = pickle.load(f)\n",
    "with open('test_tfidf.pkl', 'rb') as f:\n",
    "    X_test_tfidf = pickle.load(f)\n",
    "\n",
    "with open('y_test.pkl', 'rb') as f:\n",
    "    y_test = pickle.load(f)\n",
    "# Use the K-means model to predict cluster assignments for the test data\n",
    "test_cluster_assignments = kmeans_model.predict(X_test_tfidf)  # Assuming X_test_tfidf is your test TF-IDF matrix\n",
    "\n",
    "# Map cluster assignments to labels using the cluster-label mapping dictionary\n",
    "test_predictions = [cluster_labels[cluster_id] for cluster_id in test_cluster_assignments]\n",
    "\n",
    "# Calculate accuracy on the test set\n",
    "accuracy_test = accuracy_score(y_test, test_predictions)\n",
    "print(\"Test Accuracy:\", accuracy_test)\n",
    "\n",
    "# Generate classification report on the test set\n",
    "report_test = classification_report(y_test, test_predictions)\n",
    "print(\"Test Classification Report:\")\n",
    "print(report_test)\n"
   ]
  },
  {
   "cell_type": "code",
   "execution_count": null,
   "id": "83d3bedc",
   "metadata": {},
   "outputs": [],
   "source": []
  }
 ],
 "metadata": {
  "kernelspec": {
   "display_name": "Python 3 (ipykernel)",
   "language": "python",
   "name": "python3"
  },
  "language_info": {
   "codemirror_mode": {
    "name": "ipython",
    "version": 3
   },
   "file_extension": ".py",
   "mimetype": "text/x-python",
   "name": "python",
   "nbconvert_exporter": "python",
   "pygments_lexer": "ipython3",
   "version": "3.10.12"
  }
 },
 "nbformat": 4,
 "nbformat_minor": 5
}
