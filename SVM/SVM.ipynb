{
 "cells": [
  {
   "cell_type": "code",
   "execution_count": 8,
   "id": "3ea334e2",
   "metadata": {},
   "outputs": [],
   "source": [
    "from sklearn.model_selection import GridSearchCV\n",
    "from sklearn.svm import SVC\n",
    "import pickle"
   ]
  },
  {
   "cell_type": "code",
   "execution_count": 9,
   "id": "97906e7c",
   "metadata": {},
   "outputs": [],
   "source": [
    "# Read the TF-IDF matrices\n",
    "with open('train_tfidf.pkl', 'rb') as f:\n",
    "    X_train_tfidf = pickle.load(f)\n",
    "\n",
    "with open('validation_tfidf.pkl', 'rb') as f:\n",
    "    X_validation_tfidf = pickle.load(f)\n",
    "    \n",
    "# Read the TfidfVectorizer instance\n",
    "with open('tfidf_vectorizer.pkl', 'rb') as f:\n",
    "    tfidf_vectorizer = pickle.load(f)\n",
    "\n",
    "# Read the labels\n",
    "with open('y_train.pkl', 'rb') as f:\n",
    "    y_train = pickle.load(f)\n",
    "\n",
    "with open('y_validation.pkl', 'rb') as f:\n",
    "    y_validation = pickle.load(f)\n",
    "\n",
    "with open('y_test.pkl', 'rb') as f:\n",
    "    y_test = pickle.load(f)\n"
   ]
  },
  {
   "cell_type": "code",
   "execution_count": 10,
   "id": "b5778b6c",
   "metadata": {},
   "outputs": [
    {
     "name": "stdout",
     "output_type": "stream",
     "text": [
      "Best Parameters for SVM: {'C': 10, 'gamma': 'scale', 'kernel': 'linear'}\n",
      "Validation Score with Best Parameters: 0.9420990566037737\n"
     ]
    }
   ],
   "source": [
    "\n",
    "\n",
    "# Define the parameter grid for hyperparameter tuning\n",
    "param_grid = {\n",
    "    'C': [0.1, 1, 10],  # Regularization parameter\n",
    "    'kernel': ['linear', 'rbf'],  # Kernel type\n",
    "    'gamma': ['scale', 'auto']  # Kernel coefficient\n",
    "}\n",
    "\n",
    "# Initialize the SVM classifier\n",
    "svm_classifier = SVC()\n",
    "\n",
    "# Initialize GridSearchCV with 5-fold cross-validation\n",
    "grid_search_svm = GridSearchCV(estimator=svm_classifier, param_grid=param_grid, cv=5)\n",
    "\n",
    "# Fit GridSearchCV on the training data\n",
    "grid_search_svm.fit(X_train_tfidf, y_train)\n",
    "\n",
    "# Get the best parameters found by GridSearchCV\n",
    "best_params_svm = grid_search_svm.best_params_\n",
    "print(\"Best Parameters for SVM:\", best_params_svm)\n",
    "\n",
    "# Get the best estimator (model) found by GridSearchCV\n",
    "best_svm_classifier = grid_search_svm.best_estimator_\n",
    "\n",
    "# Evaluate performance on the validation set with the best estimator\n",
    "validation_score_svm = grid_search_svm.best_score_\n",
    "print(\"Validation Score with Best Parameters:\", validation_score_svm)\n"
   ]
  },
  {
   "cell_type": "code",
   "execution_count": 11,
   "id": "80223efa",
   "metadata": {},
   "outputs": [
    {
     "name": "stdout",
     "output_type": "stream",
     "text": [
      "Validation Accuracy: 0.9462264150943396\n",
      "Validation Classification Report:\n",
      "              precision    recall  f1-score   support\n",
      "\n",
      "           0       0.95      0.94      0.94       493\n",
      "           1       0.94      0.96      0.95       567\n",
      "\n",
      "    accuracy                           0.95      1060\n",
      "   macro avg       0.95      0.95      0.95      1060\n",
      "weighted avg       0.95      0.95      0.95      1060\n",
      "\n"
     ]
    }
   ],
   "source": [
    "from sklearn.metrics import accuracy_score, classification_report\n",
    "\n",
    "# Use the best logistic regression model to predict labels on the validation set\n",
    "validation_predictions = best_svm_classifier.predict(X_validation_tfidf)\n",
    "\n",
    "# Calculate accuracy on the validation set\n",
    "accuracy_validation = accuracy_score(y_validation, validation_predictions)\n",
    "print(\"Validation Accuracy:\", accuracy_validation)\n",
    "\n",
    "# Generate classification report on the validation set\n",
    "report_validation = classification_report(y_validation, validation_predictions)\n",
    "print(\"Validation Classification Report:\")\n",
    "print(report_validation)\n"
   ]
  },
  {
   "cell_type": "code",
   "execution_count": 12,
   "id": "e53644b8",
   "metadata": {},
   "outputs": [],
   "source": [
    "with open('evaluate_model.pkl', 'wb') as f:\n",
    "    pickle.dump(best_svm_classifier, f)\n",
    "with open('SVM_model.pkl', 'wb') as f:\n",
    "    pickle.dump(best_svm_classifier, f)"
   ]
  },
  {
   "cell_type": "code",
   "execution_count": null,
   "id": "271943d7",
   "metadata": {},
   "outputs": [],
   "source": []
  }
 ],
 "metadata": {
  "kernelspec": {
   "display_name": "Python 3 (ipykernel)",
   "language": "python",
   "name": "python3"
  },
  "language_info": {
   "codemirror_mode": {
    "name": "ipython",
    "version": 3
   },
   "file_extension": ".py",
   "mimetype": "text/x-python",
   "name": "python",
   "nbconvert_exporter": "python",
   "pygments_lexer": "ipython3",
   "version": "3.10.12"
  }
 },
 "nbformat": 4,
 "nbformat_minor": 5
}
