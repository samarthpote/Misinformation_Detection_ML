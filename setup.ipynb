{
 "cells": [
  {
   "cell_type": "code",
   "execution_count": null,
   "metadata": {},
   "outputs": [],
   "source": [
    "# imports\n",
    "import collections\n",
    "import math\n",
    "import random\n",
    "import re\n",
    "import requests\n",
    "import sklearn\n",
    "import string\n",
    "import urllib\n",
    "# some NLP libraries that can help us with preprocessing\n",
    "import nltk\n",
    "# for coloring out outputs\n",
    "from termcolor import colored\n",
    "# for comparing strings\n",
    "import difflib\n",
    "import pandas as pd\n",
    "from bs4 import BeautifulSoup\n",
    "import preprocessor as tweet_preprocessor\n",
    "from ttp import ttp\n",
    "import emoji\n",
    "import ekphrasis\n",
    "from ekphrasis.classes.preprocessor import TextPreProcessor\n",
    "from ekphrasis.classes.tokenizer import SocialTokenizer\n",
    "from ekphrasis.dicts.emoticons import emoticons"
   ]
  },
  {
   "cell_type": "code",
   "execution_count": null,
   "metadata": {},
   "outputs": [],
   "source": []
  }
 ],
 "metadata": {
  "language_info": {
   "name": "python"
  }
 },
 "nbformat": 4,
 "nbformat_minor": 2
}
